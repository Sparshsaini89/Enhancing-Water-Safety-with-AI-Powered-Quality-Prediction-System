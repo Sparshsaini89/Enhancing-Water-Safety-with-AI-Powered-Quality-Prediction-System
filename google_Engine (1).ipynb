{
  "nbformat": 4,
  "nbformat_minor": 0,
  "metadata": {
    "colab": {
      "provenance": []
    },
    "kernelspec": {
      "name": "python3",
      "display_name": "Python 3"
    },
    "language_info": {
      "name": "python"
    }
  },
  "cells": [
    {
      "cell_type": "code",
      "execution_count": 1,
      "metadata": {
        "colab": {
          "base_uri": "https://localhost:8080/"
        },
        "id": "BZf7lJbxYDQT",
        "outputId": "3f63f800-08e1-4bbf-ed8f-0577b7296035"
      },
      "outputs": [
        {
          "output_type": "stream",
          "name": "stdout",
          "text": [
            "To authorize access needed by Earth Engine, open the following URL in a web browser and follow the instructions. If the web browser does not start automatically, please manually browse the URL below.\n",
            "\n",
            "    https://code.earthengine.google.com/client-auth?scopes=https%3A//www.googleapis.com/auth/earthengine%20https%3A//www.googleapis.com/auth/devstorage.full_control&request_id=AKy7MDYXFlIqFeUOaNiXwWvipiTc5fGR1a2Z6lYg2Sw&tc=lje-O8iaG61WUwplCOf3mr--qTnJmIKuKKpyo_T9DWY&cc=CuzbxZSuHzhcqpGhCcyqRK_eqXzljxQZ5YiY8b5soXA\n",
            "\n",
            "The authorization workflow will generate a code, which you should paste in the box below.\n",
            "Enter verification code: 4/1AVHEtk57X7ImWZIZJwhmJa0RlAG73p46aaP8oafBrRXNOEtcPA5UA329ITA\n",
            "\n",
            "Successfully saved authorization token.\n"
          ]
        }
      ],
      "source": [
        "import ee\n",
        "import numpy as np\n",
        "\n",
        "ee.Authenticate()\n",
        "ee.Initialize()\n",
        "\n",
        "\n",
        "\n"
      ]
    },
    {
      "cell_type": "code",
      "source": [
        "# Define the region of interest\n",
        "roi = ee.Geometry.Rectangle([77.929262, 30.194963, 78.147071, 30.376998])\n",
        "\n",
        "# Define the time range for the image collection\n",
        "start_date = '2021-01-01'\n",
        "end_date = '2021-12-31'"
      ],
      "metadata": {
        "id": "4oOgyUtHYIWa"
      },
      "execution_count": 105,
      "outputs": []
    },
    {
      "cell_type": "code",
      "source": [
        "landsat = ee.ImageCollection('LANDSAT/LC08/C01/T1_SR') \\\n",
        "          .filterBounds(roi) \\\n",
        "          .filterDate(start_date, end_date) \\\n",
        "          .sort('CLOUD_COVER') \\\n",
        "          .first()\n",
        "\n",
        "# Load the image collection for Sentinel-2 surface reflectance\n",
        "sentinel = ee.ImageCollection('COPERNICUS/S2_SR') \\\n",
        "           .filterBounds(roi) \\\n",
        "           .filterDate(start_date, end_date) \\\n",
        "           .sort('CLOUDY_PIXEL_PERCENTAGE') \\\n",
        "           .first()"
      ],
      "metadata": {
        "id": "ggFlG3x4YLIB"
      },
      "execution_count": 106,
      "outputs": []
    },
    {
      "cell_type": "code",
      "source": [
        "# Calculate Normalized Difference Water Index (NDWI)\n",
        "dwi = sentinel.normalizedDifference(['B3', 'B8']).rename('ndwi')\n",
        "\n",
        "# Calculate Dissolved Oxygen\n",
        "do = sentinel.expression('(-0.0167*B8A+0.0067*B9+0.0083*B11+9.577)+10', \n",
        "                         {'B8A': sentinel.select('B8A'), 'B9': sentinel.select('B9'), 'B11': sentinel.select('B11')}).rename('DO')\n",
        "\n",
        "# Calculate Salinity\n",
        "salinity = sentinel.expression('((B11-B12) / (B11 + B12))+1', \n",
        "                               {'B11': sentinel.select('B11'), 'B12': sentinel.select('B12')}).rename('Salinity')\n",
        "\n",
        "# Calculate Temperature\n",
        "temp = landsat.expression('(B11*0.00341802+149.0-273.15)+133', \n",
        "                          {'B11': landsat.select('B11')}).rename('Temperature')\n",
        "\n",
        "# Calculate pH\n",
        "ph = sentinel.expression('8.339-0.827*(B1/B8)', \n",
        "                          {'B1': sentinel.select('B1'), 'B8': sentinel.select('B8')}).rename('pH')\n",
        "\n",
        "# Calculate Turbidity\n",
        "turbidity = sentinel.expression('((B4 - B3) / (B4 + B3))+0.1', \n",
        "                                 {'B3': sentinel.select('B3'),  'B4': sentinel.select('B4')}).rename('Turbidity')\n",
        "\n",
        "# Calculate Dissolved Organic Matter\n",
        "dom = sentinel.expression('((B7 * B5) / B3)/9', \n",
        "                           {'B7': sentinel.select('B7'), 'B5': sentinel.select('B5'), 'B3': sentinel.select('B3')}).rename('Dissolved Organic Matter')\n",
        "\n",
        "# Calculate Suspended Matter\n",
        "sm = sentinel.expression('((B3 * B5) / B8)*4', \n",
        "                          {'B3': sentinel.select('B3'), 'B5': sentinel.select('B5'), 'B8': sentinel.select('B8')}).rename('Suspended Matter')\n",
        "\n",
        "# Calculate Chlorophyll\n",
        "chlorophyll = sentinel.expression('((B5-B4)/(B5+B4))-0.5', \n",
        "                                   {'B4': sentinel.select('B4'), 'B5': sentinel.select('B5')}).rename('Chlorophyll')"
      ],
      "metadata": {
        "id": "GG6Pfp_MYNzb"
      },
      "execution_count": 107,
      "outputs": []
    },
    {
      "cell_type": "code",
      "source": [
        "latlon = ee.Image.pixelLonLat() \\\n",
        "         .addBands(ph) \\\n",
        "         .addBands(do) \\\n",
        "         .addBands(salinity) \\\n",
        "         .addBands(temp) \\\n",
        "         .addBands(turbidity) \\\n",
        "         .addBands(dom) \\\n",
        "         .addBands(sm) \\\n",
        "         .addBands(chlorophyll) \\\n",
        "         .addBands(dwi) \n",
        "          \n",
        "        "
      ],
      "metadata": {
        "id": "wbe3siKeYTY8"
      },
      "execution_count": 108,
      "outputs": []
    },
    {
      "cell_type": "code",
      "source": [
        "data = latlon.reduceRegion(reducer=ee.Reducer.first(), geometry=roi, scale=30).toArray()"
      ],
      "metadata": {
        "id": "LJYmMrabZVx4"
      },
      "execution_count": 109,
      "outputs": []
    },
    {
      "cell_type": "code",
      "source": [
        "latlon = ee.Image.pixelLonLat().addBands(ph).addBands(do).addBands(salinity).addBands(temp).addBands(turbidity).addBands(dom).addBands(sm).addBands(chlorophyll)\n",
        "\n",
        "\n",
        "latlon = latlon.reduceRegion(\n",
        "  reducer=ee.Reducer.toList(),\n",
        "  geometry=roi,\n",
        "  scale=100);\n",
        "\n",
        "data_ph = np.array((ee.Array(latlon.get(\"pH\")).getInfo()))\n",
        "data_salinity = np.array((ee.Array(latlon.get(\"Salinity\")).getInfo()))\n",
        "data_do = np.array((ee.Array(latlon.get(\"DO\")).getInfo()))\n",
        "data_temp = np.array((ee.Array(latlon.get(\"Temperature\")).getInfo()))\n",
        "data_turbidity = np.array((ee.Array(latlon.get(\"Turbidity\")).getInfo()))\n",
        "data_dom = np.array((ee.Array(latlon.get(\"Dissolved Organic Matter\")).getInfo()))\n",
        "data_sm = np.array((ee.Array(latlon.get(\"Suspended Matter\")).getInfo()))\n",
        "data_chlorophyll = np.array((ee.Array(latlon.get(\"Chlorophyll\")).getInfo()))"
      ],
      "metadata": {
        "id": "AcGr3WwYaYkJ"
      },
      "execution_count": 110,
      "outputs": []
    },
    {
      "cell_type": "code",
      "source": [
        "import pandas as pd\n",
        "df = pd.concat([pd.DataFrame(data_ph, columns=['pH']),\n",
        "                pd.DataFrame(data_salinity, columns=['Salinity']),\n",
        "                pd.DataFrame(data_do, columns=['Dissolved Oxygen']),\n",
        "                pd.DataFrame(data_temp, columns=['Temperature']),\n",
        "                pd.DataFrame(data_turbidity, columns=['Turbidity']),\n",
        "                pd.DataFrame(data_dom, columns=['Dissolved Organic Matter']),\n",
        "                pd.DataFrame(data_sm, columns=['Suspended Matter']),\n",
        "                pd.DataFrame(data_chlorophyll, columns=['Chlorophyll'])], \n",
        "                axis=1)\n",
        "\n",
        "# Save the dataset as a CSV file\n",
        "df.to_csv('water_quality_data1.csv', index=False)"
      ],
      "metadata": {
        "id": "FohxXaTCZZgu"
      },
      "execution_count": 111,
      "outputs": []
    },
    {
      "cell_type": "code",
      "source": [
        "df.head()"
      ],
      "metadata": {
        "colab": {
          "base_uri": "https://localhost:8080/",
          "height": 206
        },
        "id": "htScl08jajfm",
        "outputId": "ae41a595-02f3-471c-dd10-4279ab08d740"
      },
      "execution_count": 112,
      "outputs": [
        {
          "output_type": "execute_result",
          "data": {
            "text/plain": [
              "         pH  Salinity  Dissolved Oxygen  Temperature  Turbidity  \\\n",
              "0  8.256581  1.307804           10.3111    18.820364   0.054151   \n",
              "1  8.265224  1.315706            8.1113    18.813528   0.017614   \n",
              "2  8.271290  1.348837            7.9296    18.799856  -0.027389   \n",
              "3  8.281897  1.376302            7.3713    18.786184  -0.093676   \n",
              "4  8.280197  1.362225            8.8081    18.782766  -0.084158   \n",
              "\n",
              "   Dissolved Organic Matter  Suspended Matter  Chlorophyll  \n",
              "0                357.311737        586.737976    -0.200000  \n",
              "1                361.328674        466.336700    -0.172216  \n",
              "2                355.900818        385.328918    -0.145465  \n",
              "3                348.139069        283.480438    -0.091304  \n",
              "4                336.939423        294.325775    -0.093660  "
            ],
            "text/html": [
              "\n",
              "  <div id=\"df-21e08238-35a2-44b4-9df1-f969fd31e7ed\">\n",
              "    <div class=\"colab-df-container\">\n",
              "      <div>\n",
              "<style scoped>\n",
              "    .dataframe tbody tr th:only-of-type {\n",
              "        vertical-align: middle;\n",
              "    }\n",
              "\n",
              "    .dataframe tbody tr th {\n",
              "        vertical-align: top;\n",
              "    }\n",
              "\n",
              "    .dataframe thead th {\n",
              "        text-align: right;\n",
              "    }\n",
              "</style>\n",
              "<table border=\"1\" class=\"dataframe\">\n",
              "  <thead>\n",
              "    <tr style=\"text-align: right;\">\n",
              "      <th></th>\n",
              "      <th>pH</th>\n",
              "      <th>Salinity</th>\n",
              "      <th>Dissolved Oxygen</th>\n",
              "      <th>Temperature</th>\n",
              "      <th>Turbidity</th>\n",
              "      <th>Dissolved Organic Matter</th>\n",
              "      <th>Suspended Matter</th>\n",
              "      <th>Chlorophyll</th>\n",
              "    </tr>\n",
              "  </thead>\n",
              "  <tbody>\n",
              "    <tr>\n",
              "      <th>0</th>\n",
              "      <td>8.256581</td>\n",
              "      <td>1.307804</td>\n",
              "      <td>10.3111</td>\n",
              "      <td>18.820364</td>\n",
              "      <td>0.054151</td>\n",
              "      <td>357.311737</td>\n",
              "      <td>586.737976</td>\n",
              "      <td>-0.200000</td>\n",
              "    </tr>\n",
              "    <tr>\n",
              "      <th>1</th>\n",
              "      <td>8.265224</td>\n",
              "      <td>1.315706</td>\n",
              "      <td>8.1113</td>\n",
              "      <td>18.813528</td>\n",
              "      <td>0.017614</td>\n",
              "      <td>361.328674</td>\n",
              "      <td>466.336700</td>\n",
              "      <td>-0.172216</td>\n",
              "    </tr>\n",
              "    <tr>\n",
              "      <th>2</th>\n",
              "      <td>8.271290</td>\n",
              "      <td>1.348837</td>\n",
              "      <td>7.9296</td>\n",
              "      <td>18.799856</td>\n",
              "      <td>-0.027389</td>\n",
              "      <td>355.900818</td>\n",
              "      <td>385.328918</td>\n",
              "      <td>-0.145465</td>\n",
              "    </tr>\n",
              "    <tr>\n",
              "      <th>3</th>\n",
              "      <td>8.281897</td>\n",
              "      <td>1.376302</td>\n",
              "      <td>7.3713</td>\n",
              "      <td>18.786184</td>\n",
              "      <td>-0.093676</td>\n",
              "      <td>348.139069</td>\n",
              "      <td>283.480438</td>\n",
              "      <td>-0.091304</td>\n",
              "    </tr>\n",
              "    <tr>\n",
              "      <th>4</th>\n",
              "      <td>8.280197</td>\n",
              "      <td>1.362225</td>\n",
              "      <td>8.8081</td>\n",
              "      <td>18.782766</td>\n",
              "      <td>-0.084158</td>\n",
              "      <td>336.939423</td>\n",
              "      <td>294.325775</td>\n",
              "      <td>-0.093660</td>\n",
              "    </tr>\n",
              "  </tbody>\n",
              "</table>\n",
              "</div>\n",
              "      <button class=\"colab-df-convert\" onclick=\"convertToInteractive('df-21e08238-35a2-44b4-9df1-f969fd31e7ed')\"\n",
              "              title=\"Convert this dataframe to an interactive table.\"\n",
              "              style=\"display:none;\">\n",
              "        \n",
              "  <svg xmlns=\"http://www.w3.org/2000/svg\" height=\"24px\"viewBox=\"0 0 24 24\"\n",
              "       width=\"24px\">\n",
              "    <path d=\"M0 0h24v24H0V0z\" fill=\"none\"/>\n",
              "    <path d=\"M18.56 5.44l.94 2.06.94-2.06 2.06-.94-2.06-.94-.94-2.06-.94 2.06-2.06.94zm-11 1L8.5 8.5l.94-2.06 2.06-.94-2.06-.94L8.5 2.5l-.94 2.06-2.06.94zm10 10l.94 2.06.94-2.06 2.06-.94-2.06-.94-.94-2.06-.94 2.06-2.06.94z\"/><path d=\"M17.41 7.96l-1.37-1.37c-.4-.4-.92-.59-1.43-.59-.52 0-1.04.2-1.43.59L10.3 9.45l-7.72 7.72c-.78.78-.78 2.05 0 2.83L4 21.41c.39.39.9.59 1.41.59.51 0 1.02-.2 1.41-.59l7.78-7.78 2.81-2.81c.8-.78.8-2.07 0-2.86zM5.41 20L4 18.59l7.72-7.72 1.47 1.35L5.41 20z\"/>\n",
              "  </svg>\n",
              "      </button>\n",
              "      \n",
              "  <style>\n",
              "    .colab-df-container {\n",
              "      display:flex;\n",
              "      flex-wrap:wrap;\n",
              "      gap: 12px;\n",
              "    }\n",
              "\n",
              "    .colab-df-convert {\n",
              "      background-color: #E8F0FE;\n",
              "      border: none;\n",
              "      border-radius: 50%;\n",
              "      cursor: pointer;\n",
              "      display: none;\n",
              "      fill: #1967D2;\n",
              "      height: 32px;\n",
              "      padding: 0 0 0 0;\n",
              "      width: 32px;\n",
              "    }\n",
              "\n",
              "    .colab-df-convert:hover {\n",
              "      background-color: #E2EBFA;\n",
              "      box-shadow: 0px 1px 2px rgba(60, 64, 67, 0.3), 0px 1px 3px 1px rgba(60, 64, 67, 0.15);\n",
              "      fill: #174EA6;\n",
              "    }\n",
              "\n",
              "    [theme=dark] .colab-df-convert {\n",
              "      background-color: #3B4455;\n",
              "      fill: #D2E3FC;\n",
              "    }\n",
              "\n",
              "    [theme=dark] .colab-df-convert:hover {\n",
              "      background-color: #434B5C;\n",
              "      box-shadow: 0px 1px 3px 1px rgba(0, 0, 0, 0.15);\n",
              "      filter: drop-shadow(0px 1px 2px rgba(0, 0, 0, 0.3));\n",
              "      fill: #FFFFFF;\n",
              "    }\n",
              "  </style>\n",
              "\n",
              "      <script>\n",
              "        const buttonEl =\n",
              "          document.querySelector('#df-21e08238-35a2-44b4-9df1-f969fd31e7ed button.colab-df-convert');\n",
              "        buttonEl.style.display =\n",
              "          google.colab.kernel.accessAllowed ? 'block' : 'none';\n",
              "\n",
              "        async function convertToInteractive(key) {\n",
              "          const element = document.querySelector('#df-21e08238-35a2-44b4-9df1-f969fd31e7ed');\n",
              "          const dataTable =\n",
              "            await google.colab.kernel.invokeFunction('convertToInteractive',\n",
              "                                                     [key], {});\n",
              "          if (!dataTable) return;\n",
              "\n",
              "          const docLinkHtml = 'Like what you see? Visit the ' +\n",
              "            '<a target=\"_blank\" href=https://colab.research.google.com/notebooks/data_table.ipynb>data table notebook</a>'\n",
              "            + ' to learn more about interactive tables.';\n",
              "          element.innerHTML = '';\n",
              "          dataTable['output_type'] = 'display_data';\n",
              "          await google.colab.output.renderOutput(dataTable, element);\n",
              "          const docLink = document.createElement('div');\n",
              "          docLink.innerHTML = docLinkHtml;\n",
              "          element.appendChild(docLink);\n",
              "        }\n",
              "      </script>\n",
              "    </div>\n",
              "  </div>\n",
              "  "
            ]
          },
          "metadata": {},
          "execution_count": 112
        }
      ]
    },
    {
      "cell_type": "code",
      "source": [
        "df\n"
      ],
      "metadata": {
        "colab": {
          "base_uri": "https://localhost:8080/",
          "height": 423
        },
        "id": "jEDitji8awaT",
        "outputId": "87e99b72-088d-46d6-9535-2570257ee0f3"
      },
      "execution_count": 113,
      "outputs": [
        {
          "output_type": "execute_result",
          "data": {
            "text/plain": [
              "             pH  Salinity  Dissolved Oxygen  Temperature  Turbidity  \\\n",
              "0      8.256581  1.307804           10.3111    18.820364   0.054151   \n",
              "1      8.265224  1.315706            8.1113    18.813528   0.017614   \n",
              "2      8.271290  1.348837            7.9296    18.799856  -0.027389   \n",
              "3      8.281897  1.376302            7.3713    18.786184  -0.093676   \n",
              "4      8.280197  1.362225            8.8081    18.782766  -0.084158   \n",
              "...         ...       ...               ...          ...        ...   \n",
              "49324  8.302407  1.349296            9.2537    18.748586  -0.038539   \n",
              "49325  8.278749  1.258456           12.0194    18.813528   0.096914   \n",
              "49326  8.280500  1.279165           10.5942    18.820364   0.064856   \n",
              "49327  8.292296  1.319277            7.3916    18.810110  -0.029371   \n",
              "49328  8.280642  1.262823           11.3883    18.810110   0.123256   \n",
              "\n",
              "       Dissolved Organic Matter  Suspended Matter  Chlorophyll  \n",
              "0                    357.311737        586.737976    -0.200000  \n",
              "1                    361.328674        466.336700    -0.172216  \n",
              "2                    355.900818        385.328918    -0.145465  \n",
              "3                    348.139069        283.480438    -0.091304  \n",
              "4                    336.939423        294.325775    -0.093660  \n",
              "...                         ...               ...          ...  \n",
              "49324                336.208466        204.500000    -0.089655  \n",
              "49325                358.222229        434.970306    -0.185048  \n",
              "49326                374.079224        399.022888    -0.165932  \n",
              "49327                447.306488        382.617065    -0.057047  \n",
              "49328                406.691345        529.090393    -0.207143  \n",
              "\n",
              "[49329 rows x 8 columns]"
            ],
            "text/html": [
              "\n",
              "  <div id=\"df-a387265a-1a81-4c30-b1bf-302e1836f90a\">\n",
              "    <div class=\"colab-df-container\">\n",
              "      <div>\n",
              "<style scoped>\n",
              "    .dataframe tbody tr th:only-of-type {\n",
              "        vertical-align: middle;\n",
              "    }\n",
              "\n",
              "    .dataframe tbody tr th {\n",
              "        vertical-align: top;\n",
              "    }\n",
              "\n",
              "    .dataframe thead th {\n",
              "        text-align: right;\n",
              "    }\n",
              "</style>\n",
              "<table border=\"1\" class=\"dataframe\">\n",
              "  <thead>\n",
              "    <tr style=\"text-align: right;\">\n",
              "      <th></th>\n",
              "      <th>pH</th>\n",
              "      <th>Salinity</th>\n",
              "      <th>Dissolved Oxygen</th>\n",
              "      <th>Temperature</th>\n",
              "      <th>Turbidity</th>\n",
              "      <th>Dissolved Organic Matter</th>\n",
              "      <th>Suspended Matter</th>\n",
              "      <th>Chlorophyll</th>\n",
              "    </tr>\n",
              "  </thead>\n",
              "  <tbody>\n",
              "    <tr>\n",
              "      <th>0</th>\n",
              "      <td>8.256581</td>\n",
              "      <td>1.307804</td>\n",
              "      <td>10.3111</td>\n",
              "      <td>18.820364</td>\n",
              "      <td>0.054151</td>\n",
              "      <td>357.311737</td>\n",
              "      <td>586.737976</td>\n",
              "      <td>-0.200000</td>\n",
              "    </tr>\n",
              "    <tr>\n",
              "      <th>1</th>\n",
              "      <td>8.265224</td>\n",
              "      <td>1.315706</td>\n",
              "      <td>8.1113</td>\n",
              "      <td>18.813528</td>\n",
              "      <td>0.017614</td>\n",
              "      <td>361.328674</td>\n",
              "      <td>466.336700</td>\n",
              "      <td>-0.172216</td>\n",
              "    </tr>\n",
              "    <tr>\n",
              "      <th>2</th>\n",
              "      <td>8.271290</td>\n",
              "      <td>1.348837</td>\n",
              "      <td>7.9296</td>\n",
              "      <td>18.799856</td>\n",
              "      <td>-0.027389</td>\n",
              "      <td>355.900818</td>\n",
              "      <td>385.328918</td>\n",
              "      <td>-0.145465</td>\n",
              "    </tr>\n",
              "    <tr>\n",
              "      <th>3</th>\n",
              "      <td>8.281897</td>\n",
              "      <td>1.376302</td>\n",
              "      <td>7.3713</td>\n",
              "      <td>18.786184</td>\n",
              "      <td>-0.093676</td>\n",
              "      <td>348.139069</td>\n",
              "      <td>283.480438</td>\n",
              "      <td>-0.091304</td>\n",
              "    </tr>\n",
              "    <tr>\n",
              "      <th>4</th>\n",
              "      <td>8.280197</td>\n",
              "      <td>1.362225</td>\n",
              "      <td>8.8081</td>\n",
              "      <td>18.782766</td>\n",
              "      <td>-0.084158</td>\n",
              "      <td>336.939423</td>\n",
              "      <td>294.325775</td>\n",
              "      <td>-0.093660</td>\n",
              "    </tr>\n",
              "    <tr>\n",
              "      <th>...</th>\n",
              "      <td>...</td>\n",
              "      <td>...</td>\n",
              "      <td>...</td>\n",
              "      <td>...</td>\n",
              "      <td>...</td>\n",
              "      <td>...</td>\n",
              "      <td>...</td>\n",
              "      <td>...</td>\n",
              "    </tr>\n",
              "    <tr>\n",
              "      <th>49324</th>\n",
              "      <td>8.302407</td>\n",
              "      <td>1.349296</td>\n",
              "      <td>9.2537</td>\n",
              "      <td>18.748586</td>\n",
              "      <td>-0.038539</td>\n",
              "      <td>336.208466</td>\n",
              "      <td>204.500000</td>\n",
              "      <td>-0.089655</td>\n",
              "    </tr>\n",
              "    <tr>\n",
              "      <th>49325</th>\n",
              "      <td>8.278749</td>\n",
              "      <td>1.258456</td>\n",
              "      <td>12.0194</td>\n",
              "      <td>18.813528</td>\n",
              "      <td>0.096914</td>\n",
              "      <td>358.222229</td>\n",
              "      <td>434.970306</td>\n",
              "      <td>-0.185048</td>\n",
              "    </tr>\n",
              "    <tr>\n",
              "      <th>49326</th>\n",
              "      <td>8.280500</td>\n",
              "      <td>1.279165</td>\n",
              "      <td>10.5942</td>\n",
              "      <td>18.820364</td>\n",
              "      <td>0.064856</td>\n",
              "      <td>374.079224</td>\n",
              "      <td>399.022888</td>\n",
              "      <td>-0.165932</td>\n",
              "    </tr>\n",
              "    <tr>\n",
              "      <th>49327</th>\n",
              "      <td>8.292296</td>\n",
              "      <td>1.319277</td>\n",
              "      <td>7.3916</td>\n",
              "      <td>18.810110</td>\n",
              "      <td>-0.029371</td>\n",
              "      <td>447.306488</td>\n",
              "      <td>382.617065</td>\n",
              "      <td>-0.057047</td>\n",
              "    </tr>\n",
              "    <tr>\n",
              "      <th>49328</th>\n",
              "      <td>8.280642</td>\n",
              "      <td>1.262823</td>\n",
              "      <td>11.3883</td>\n",
              "      <td>18.810110</td>\n",
              "      <td>0.123256</td>\n",
              "      <td>406.691345</td>\n",
              "      <td>529.090393</td>\n",
              "      <td>-0.207143</td>\n",
              "    </tr>\n",
              "  </tbody>\n",
              "</table>\n",
              "<p>49329 rows × 8 columns</p>\n",
              "</div>\n",
              "      <button class=\"colab-df-convert\" onclick=\"convertToInteractive('df-a387265a-1a81-4c30-b1bf-302e1836f90a')\"\n",
              "              title=\"Convert this dataframe to an interactive table.\"\n",
              "              style=\"display:none;\">\n",
              "        \n",
              "  <svg xmlns=\"http://www.w3.org/2000/svg\" height=\"24px\"viewBox=\"0 0 24 24\"\n",
              "       width=\"24px\">\n",
              "    <path d=\"M0 0h24v24H0V0z\" fill=\"none\"/>\n",
              "    <path d=\"M18.56 5.44l.94 2.06.94-2.06 2.06-.94-2.06-.94-.94-2.06-.94 2.06-2.06.94zm-11 1L8.5 8.5l.94-2.06 2.06-.94-2.06-.94L8.5 2.5l-.94 2.06-2.06.94zm10 10l.94 2.06.94-2.06 2.06-.94-2.06-.94-.94-2.06-.94 2.06-2.06.94z\"/><path d=\"M17.41 7.96l-1.37-1.37c-.4-.4-.92-.59-1.43-.59-.52 0-1.04.2-1.43.59L10.3 9.45l-7.72 7.72c-.78.78-.78 2.05 0 2.83L4 21.41c.39.39.9.59 1.41.59.51 0 1.02-.2 1.41-.59l7.78-7.78 2.81-2.81c.8-.78.8-2.07 0-2.86zM5.41 20L4 18.59l7.72-7.72 1.47 1.35L5.41 20z\"/>\n",
              "  </svg>\n",
              "      </button>\n",
              "      \n",
              "  <style>\n",
              "    .colab-df-container {\n",
              "      display:flex;\n",
              "      flex-wrap:wrap;\n",
              "      gap: 12px;\n",
              "    }\n",
              "\n",
              "    .colab-df-convert {\n",
              "      background-color: #E8F0FE;\n",
              "      border: none;\n",
              "      border-radius: 50%;\n",
              "      cursor: pointer;\n",
              "      display: none;\n",
              "      fill: #1967D2;\n",
              "      height: 32px;\n",
              "      padding: 0 0 0 0;\n",
              "      width: 32px;\n",
              "    }\n",
              "\n",
              "    .colab-df-convert:hover {\n",
              "      background-color: #E2EBFA;\n",
              "      box-shadow: 0px 1px 2px rgba(60, 64, 67, 0.3), 0px 1px 3px 1px rgba(60, 64, 67, 0.15);\n",
              "      fill: #174EA6;\n",
              "    }\n",
              "\n",
              "    [theme=dark] .colab-df-convert {\n",
              "      background-color: #3B4455;\n",
              "      fill: #D2E3FC;\n",
              "    }\n",
              "\n",
              "    [theme=dark] .colab-df-convert:hover {\n",
              "      background-color: #434B5C;\n",
              "      box-shadow: 0px 1px 3px 1px rgba(0, 0, 0, 0.15);\n",
              "      filter: drop-shadow(0px 1px 2px rgba(0, 0, 0, 0.3));\n",
              "      fill: #FFFFFF;\n",
              "    }\n",
              "  </style>\n",
              "\n",
              "      <script>\n",
              "        const buttonEl =\n",
              "          document.querySelector('#df-a387265a-1a81-4c30-b1bf-302e1836f90a button.colab-df-convert');\n",
              "        buttonEl.style.display =\n",
              "          google.colab.kernel.accessAllowed ? 'block' : 'none';\n",
              "\n",
              "        async function convertToInteractive(key) {\n",
              "          const element = document.querySelector('#df-a387265a-1a81-4c30-b1bf-302e1836f90a');\n",
              "          const dataTable =\n",
              "            await google.colab.kernel.invokeFunction('convertToInteractive',\n",
              "                                                     [key], {});\n",
              "          if (!dataTable) return;\n",
              "\n",
              "          const docLinkHtml = 'Like what you see? Visit the ' +\n",
              "            '<a target=\"_blank\" href=https://colab.research.google.com/notebooks/data_table.ipynb>data table notebook</a>'\n",
              "            + ' to learn more about interactive tables.';\n",
              "          element.innerHTML = '';\n",
              "          dataTable['output_type'] = 'display_data';\n",
              "          await google.colab.output.renderOutput(dataTable, element);\n",
              "          const docLink = document.createElement('div');\n",
              "          docLink.innerHTML = docLinkHtml;\n",
              "          element.appendChild(docLink);\n",
              "        }\n",
              "      </script>\n",
              "    </div>\n",
              "  </div>\n",
              "  "
            ]
          },
          "metadata": {},
          "execution_count": 113
        }
      ]
    },
    {
      "cell_type": "code",
      "source": [
        "\n",
        "df = pd.read_csv('water_quality_data1.csv')\n",
        "\n",
        "# Drop all rows containing null values\n",
        "df = df.dropna()\n",
        "\n",
        "# Save the cleaned data to a new CSV file\n",
        "df.to_csv('cleaned_water_quality_data1.csv', index=False)"
      ],
      "metadata": {
        "id": "ShFTLB-Fa1Ax"
      },
      "execution_count": 114,
      "outputs": []
    },
    {
      "cell_type": "code",
      "source": [
        "## Fill missing values with median\n",
        "for feature in df.columns:\n",
        "    df[feature].fillna(df[feature].median() , inplace = True)"
      ],
      "metadata": {
        "id": "u73j736Zkm18"
      },
      "execution_count": 115,
      "outputs": []
    },
    {
      "cell_type": "code",
      "source": [
        "df"
      ],
      "metadata": {
        "colab": {
          "base_uri": "https://localhost:8080/",
          "height": 423
        },
        "id": "gQpC_71PsRE0",
        "outputId": "fc597009-20d8-44a9-e90f-b0ad6a3ff043"
      },
      "execution_count": 116,
      "outputs": [
        {
          "output_type": "execute_result",
          "data": {
            "text/plain": [
              "             pH  Salinity  Dissolved Oxygen  Temperature  Turbidity  \\\n",
              "0      8.256581  1.307804           10.3111    18.820364   0.054151   \n",
              "1      8.265224  1.315706            8.1113    18.813528   0.017614   \n",
              "2      8.271290  1.348837            7.9296    18.799856  -0.027389   \n",
              "3      8.281897  1.376302            7.3713    18.786184  -0.093676   \n",
              "4      8.280197  1.362225            8.8081    18.782766  -0.084158   \n",
              "...         ...       ...               ...          ...        ...   \n",
              "49324  8.302407  1.349296            9.2537    18.748586  -0.038539   \n",
              "49325  8.278749  1.258456           12.0194    18.813528   0.096914   \n",
              "49326  8.280500  1.279165           10.5942    18.820364   0.064856   \n",
              "49327  8.292296  1.319277            7.3916    18.810110  -0.029371   \n",
              "49328  8.280642  1.262823           11.3883    18.810110   0.123256   \n",
              "\n",
              "       Dissolved Organic Matter  Suspended Matter  Chlorophyll  \n",
              "0                    357.311737        586.737976    -0.200000  \n",
              "1                    361.328674        466.336700    -0.172216  \n",
              "2                    355.900818        385.328918    -0.145465  \n",
              "3                    348.139069        283.480438    -0.091304  \n",
              "4                    336.939423        294.325775    -0.093660  \n",
              "...                         ...               ...          ...  \n",
              "49324                336.208466        204.500000    -0.089655  \n",
              "49325                358.222229        434.970306    -0.185048  \n",
              "49326                374.079224        399.022888    -0.165932  \n",
              "49327                447.306488        382.617065    -0.057047  \n",
              "49328                406.691345        529.090393    -0.207143  \n",
              "\n",
              "[49329 rows x 8 columns]"
            ],
            "text/html": [
              "\n",
              "  <div id=\"df-19e08741-5c1b-4a1a-9d93-2bf3dc5015c7\">\n",
              "    <div class=\"colab-df-container\">\n",
              "      <div>\n",
              "<style scoped>\n",
              "    .dataframe tbody tr th:only-of-type {\n",
              "        vertical-align: middle;\n",
              "    }\n",
              "\n",
              "    .dataframe tbody tr th {\n",
              "        vertical-align: top;\n",
              "    }\n",
              "\n",
              "    .dataframe thead th {\n",
              "        text-align: right;\n",
              "    }\n",
              "</style>\n",
              "<table border=\"1\" class=\"dataframe\">\n",
              "  <thead>\n",
              "    <tr style=\"text-align: right;\">\n",
              "      <th></th>\n",
              "      <th>pH</th>\n",
              "      <th>Salinity</th>\n",
              "      <th>Dissolved Oxygen</th>\n",
              "      <th>Temperature</th>\n",
              "      <th>Turbidity</th>\n",
              "      <th>Dissolved Organic Matter</th>\n",
              "      <th>Suspended Matter</th>\n",
              "      <th>Chlorophyll</th>\n",
              "    </tr>\n",
              "  </thead>\n",
              "  <tbody>\n",
              "    <tr>\n",
              "      <th>0</th>\n",
              "      <td>8.256581</td>\n",
              "      <td>1.307804</td>\n",
              "      <td>10.3111</td>\n",
              "      <td>18.820364</td>\n",
              "      <td>0.054151</td>\n",
              "      <td>357.311737</td>\n",
              "      <td>586.737976</td>\n",
              "      <td>-0.200000</td>\n",
              "    </tr>\n",
              "    <tr>\n",
              "      <th>1</th>\n",
              "      <td>8.265224</td>\n",
              "      <td>1.315706</td>\n",
              "      <td>8.1113</td>\n",
              "      <td>18.813528</td>\n",
              "      <td>0.017614</td>\n",
              "      <td>361.328674</td>\n",
              "      <td>466.336700</td>\n",
              "      <td>-0.172216</td>\n",
              "    </tr>\n",
              "    <tr>\n",
              "      <th>2</th>\n",
              "      <td>8.271290</td>\n",
              "      <td>1.348837</td>\n",
              "      <td>7.9296</td>\n",
              "      <td>18.799856</td>\n",
              "      <td>-0.027389</td>\n",
              "      <td>355.900818</td>\n",
              "      <td>385.328918</td>\n",
              "      <td>-0.145465</td>\n",
              "    </tr>\n",
              "    <tr>\n",
              "      <th>3</th>\n",
              "      <td>8.281897</td>\n",
              "      <td>1.376302</td>\n",
              "      <td>7.3713</td>\n",
              "      <td>18.786184</td>\n",
              "      <td>-0.093676</td>\n",
              "      <td>348.139069</td>\n",
              "      <td>283.480438</td>\n",
              "      <td>-0.091304</td>\n",
              "    </tr>\n",
              "    <tr>\n",
              "      <th>4</th>\n",
              "      <td>8.280197</td>\n",
              "      <td>1.362225</td>\n",
              "      <td>8.8081</td>\n",
              "      <td>18.782766</td>\n",
              "      <td>-0.084158</td>\n",
              "      <td>336.939423</td>\n",
              "      <td>294.325775</td>\n",
              "      <td>-0.093660</td>\n",
              "    </tr>\n",
              "    <tr>\n",
              "      <th>...</th>\n",
              "      <td>...</td>\n",
              "      <td>...</td>\n",
              "      <td>...</td>\n",
              "      <td>...</td>\n",
              "      <td>...</td>\n",
              "      <td>...</td>\n",
              "      <td>...</td>\n",
              "      <td>...</td>\n",
              "    </tr>\n",
              "    <tr>\n",
              "      <th>49324</th>\n",
              "      <td>8.302407</td>\n",
              "      <td>1.349296</td>\n",
              "      <td>9.2537</td>\n",
              "      <td>18.748586</td>\n",
              "      <td>-0.038539</td>\n",
              "      <td>336.208466</td>\n",
              "      <td>204.500000</td>\n",
              "      <td>-0.089655</td>\n",
              "    </tr>\n",
              "    <tr>\n",
              "      <th>49325</th>\n",
              "      <td>8.278749</td>\n",
              "      <td>1.258456</td>\n",
              "      <td>12.0194</td>\n",
              "      <td>18.813528</td>\n",
              "      <td>0.096914</td>\n",
              "      <td>358.222229</td>\n",
              "      <td>434.970306</td>\n",
              "      <td>-0.185048</td>\n",
              "    </tr>\n",
              "    <tr>\n",
              "      <th>49326</th>\n",
              "      <td>8.280500</td>\n",
              "      <td>1.279165</td>\n",
              "      <td>10.5942</td>\n",
              "      <td>18.820364</td>\n",
              "      <td>0.064856</td>\n",
              "      <td>374.079224</td>\n",
              "      <td>399.022888</td>\n",
              "      <td>-0.165932</td>\n",
              "    </tr>\n",
              "    <tr>\n",
              "      <th>49327</th>\n",
              "      <td>8.292296</td>\n",
              "      <td>1.319277</td>\n",
              "      <td>7.3916</td>\n",
              "      <td>18.810110</td>\n",
              "      <td>-0.029371</td>\n",
              "      <td>447.306488</td>\n",
              "      <td>382.617065</td>\n",
              "      <td>-0.057047</td>\n",
              "    </tr>\n",
              "    <tr>\n",
              "      <th>49328</th>\n",
              "      <td>8.280642</td>\n",
              "      <td>1.262823</td>\n",
              "      <td>11.3883</td>\n",
              "      <td>18.810110</td>\n",
              "      <td>0.123256</td>\n",
              "      <td>406.691345</td>\n",
              "      <td>529.090393</td>\n",
              "      <td>-0.207143</td>\n",
              "    </tr>\n",
              "  </tbody>\n",
              "</table>\n",
              "<p>49329 rows × 8 columns</p>\n",
              "</div>\n",
              "      <button class=\"colab-df-convert\" onclick=\"convertToInteractive('df-19e08741-5c1b-4a1a-9d93-2bf3dc5015c7')\"\n",
              "              title=\"Convert this dataframe to an interactive table.\"\n",
              "              style=\"display:none;\">\n",
              "        \n",
              "  <svg xmlns=\"http://www.w3.org/2000/svg\" height=\"24px\"viewBox=\"0 0 24 24\"\n",
              "       width=\"24px\">\n",
              "    <path d=\"M0 0h24v24H0V0z\" fill=\"none\"/>\n",
              "    <path d=\"M18.56 5.44l.94 2.06.94-2.06 2.06-.94-2.06-.94-.94-2.06-.94 2.06-2.06.94zm-11 1L8.5 8.5l.94-2.06 2.06-.94-2.06-.94L8.5 2.5l-.94 2.06-2.06.94zm10 10l.94 2.06.94-2.06 2.06-.94-2.06-.94-.94-2.06-.94 2.06-2.06.94z\"/><path d=\"M17.41 7.96l-1.37-1.37c-.4-.4-.92-.59-1.43-.59-.52 0-1.04.2-1.43.59L10.3 9.45l-7.72 7.72c-.78.78-.78 2.05 0 2.83L4 21.41c.39.39.9.59 1.41.59.51 0 1.02-.2 1.41-.59l7.78-7.78 2.81-2.81c.8-.78.8-2.07 0-2.86zM5.41 20L4 18.59l7.72-7.72 1.47 1.35L5.41 20z\"/>\n",
              "  </svg>\n",
              "      </button>\n",
              "      \n",
              "  <style>\n",
              "    .colab-df-container {\n",
              "      display:flex;\n",
              "      flex-wrap:wrap;\n",
              "      gap: 12px;\n",
              "    }\n",
              "\n",
              "    .colab-df-convert {\n",
              "      background-color: #E8F0FE;\n",
              "      border: none;\n",
              "      border-radius: 50%;\n",
              "      cursor: pointer;\n",
              "      display: none;\n",
              "      fill: #1967D2;\n",
              "      height: 32px;\n",
              "      padding: 0 0 0 0;\n",
              "      width: 32px;\n",
              "    }\n",
              "\n",
              "    .colab-df-convert:hover {\n",
              "      background-color: #E2EBFA;\n",
              "      box-shadow: 0px 1px 2px rgba(60, 64, 67, 0.3), 0px 1px 3px 1px rgba(60, 64, 67, 0.15);\n",
              "      fill: #174EA6;\n",
              "    }\n",
              "\n",
              "    [theme=dark] .colab-df-convert {\n",
              "      background-color: #3B4455;\n",
              "      fill: #D2E3FC;\n",
              "    }\n",
              "\n",
              "    [theme=dark] .colab-df-convert:hover {\n",
              "      background-color: #434B5C;\n",
              "      box-shadow: 0px 1px 3px 1px rgba(0, 0, 0, 0.15);\n",
              "      filter: drop-shadow(0px 1px 2px rgba(0, 0, 0, 0.3));\n",
              "      fill: #FFFFFF;\n",
              "    }\n",
              "  </style>\n",
              "\n",
              "      <script>\n",
              "        const buttonEl =\n",
              "          document.querySelector('#df-19e08741-5c1b-4a1a-9d93-2bf3dc5015c7 button.colab-df-convert');\n",
              "        buttonEl.style.display =\n",
              "          google.colab.kernel.accessAllowed ? 'block' : 'none';\n",
              "\n",
              "        async function convertToInteractive(key) {\n",
              "          const element = document.querySelector('#df-19e08741-5c1b-4a1a-9d93-2bf3dc5015c7');\n",
              "          const dataTable =\n",
              "            await google.colab.kernel.invokeFunction('convertToInteractive',\n",
              "                                                     [key], {});\n",
              "          if (!dataTable) return;\n",
              "\n",
              "          const docLinkHtml = 'Like what you see? Visit the ' +\n",
              "            '<a target=\"_blank\" href=https://colab.research.google.com/notebooks/data_table.ipynb>data table notebook</a>'\n",
              "            + ' to learn more about interactive tables.';\n",
              "          element.innerHTML = '';\n",
              "          dataTable['output_type'] = 'display_data';\n",
              "          await google.colab.output.renderOutput(dataTable, element);\n",
              "          const docLink = document.createElement('div');\n",
              "          docLink.innerHTML = docLinkHtml;\n",
              "          element.appendChild(docLink);\n",
              "        }\n",
              "      </script>\n",
              "    </div>\n",
              "  </div>\n",
              "  "
            ]
          },
          "metadata": {},
          "execution_count": 116
        }
      ]
    },
    {
      "cell_type": "code",
      "source": [
        "## find dublicate rows in dataset\n",
        "duplicate = df[df.duplicated()]\n",
        "duplicate"
      ],
      "metadata": {
        "colab": {
          "base_uri": "https://localhost:8080/",
          "height": 49
        },
        "id": "ieWrypkFkxln",
        "outputId": "d85d1f02-c062-4e21-830a-12284c481c37"
      },
      "execution_count": 117,
      "outputs": [
        {
          "output_type": "execute_result",
          "data": {
            "text/plain": [
              "Empty DataFrame\n",
              "Columns: [pH, Salinity, Dissolved Oxygen, Temperature, Turbidity, Dissolved Organic Matter, Suspended Matter, Chlorophyll]\n",
              "Index: []"
            ],
            "text/html": [
              "\n",
              "  <div id=\"df-de67abf8-f87a-4509-8358-5c8c9c8cb146\">\n",
              "    <div class=\"colab-df-container\">\n",
              "      <div>\n",
              "<style scoped>\n",
              "    .dataframe tbody tr th:only-of-type {\n",
              "        vertical-align: middle;\n",
              "    }\n",
              "\n",
              "    .dataframe tbody tr th {\n",
              "        vertical-align: top;\n",
              "    }\n",
              "\n",
              "    .dataframe thead th {\n",
              "        text-align: right;\n",
              "    }\n",
              "</style>\n",
              "<table border=\"1\" class=\"dataframe\">\n",
              "  <thead>\n",
              "    <tr style=\"text-align: right;\">\n",
              "      <th></th>\n",
              "      <th>pH</th>\n",
              "      <th>Salinity</th>\n",
              "      <th>Dissolved Oxygen</th>\n",
              "      <th>Temperature</th>\n",
              "      <th>Turbidity</th>\n",
              "      <th>Dissolved Organic Matter</th>\n",
              "      <th>Suspended Matter</th>\n",
              "      <th>Chlorophyll</th>\n",
              "    </tr>\n",
              "  </thead>\n",
              "  <tbody>\n",
              "  </tbody>\n",
              "</table>\n",
              "</div>\n",
              "      <button class=\"colab-df-convert\" onclick=\"convertToInteractive('df-de67abf8-f87a-4509-8358-5c8c9c8cb146')\"\n",
              "              title=\"Convert this dataframe to an interactive table.\"\n",
              "              style=\"display:none;\">\n",
              "        \n",
              "  <svg xmlns=\"http://www.w3.org/2000/svg\" height=\"24px\"viewBox=\"0 0 24 24\"\n",
              "       width=\"24px\">\n",
              "    <path d=\"M0 0h24v24H0V0z\" fill=\"none\"/>\n",
              "    <path d=\"M18.56 5.44l.94 2.06.94-2.06 2.06-.94-2.06-.94-.94-2.06-.94 2.06-2.06.94zm-11 1L8.5 8.5l.94-2.06 2.06-.94-2.06-.94L8.5 2.5l-.94 2.06-2.06.94zm10 10l.94 2.06.94-2.06 2.06-.94-2.06-.94-.94-2.06-.94 2.06-2.06.94z\"/><path d=\"M17.41 7.96l-1.37-1.37c-.4-.4-.92-.59-1.43-.59-.52 0-1.04.2-1.43.59L10.3 9.45l-7.72 7.72c-.78.78-.78 2.05 0 2.83L4 21.41c.39.39.9.59 1.41.59.51 0 1.02-.2 1.41-.59l7.78-7.78 2.81-2.81c.8-.78.8-2.07 0-2.86zM5.41 20L4 18.59l7.72-7.72 1.47 1.35L5.41 20z\"/>\n",
              "  </svg>\n",
              "      </button>\n",
              "      \n",
              "  <style>\n",
              "    .colab-df-container {\n",
              "      display:flex;\n",
              "      flex-wrap:wrap;\n",
              "      gap: 12px;\n",
              "    }\n",
              "\n",
              "    .colab-df-convert {\n",
              "      background-color: #E8F0FE;\n",
              "      border: none;\n",
              "      border-radius: 50%;\n",
              "      cursor: pointer;\n",
              "      display: none;\n",
              "      fill: #1967D2;\n",
              "      height: 32px;\n",
              "      padding: 0 0 0 0;\n",
              "      width: 32px;\n",
              "    }\n",
              "\n",
              "    .colab-df-convert:hover {\n",
              "      background-color: #E2EBFA;\n",
              "      box-shadow: 0px 1px 2px rgba(60, 64, 67, 0.3), 0px 1px 3px 1px rgba(60, 64, 67, 0.15);\n",
              "      fill: #174EA6;\n",
              "    }\n",
              "\n",
              "    [theme=dark] .colab-df-convert {\n",
              "      background-color: #3B4455;\n",
              "      fill: #D2E3FC;\n",
              "    }\n",
              "\n",
              "    [theme=dark] .colab-df-convert:hover {\n",
              "      background-color: #434B5C;\n",
              "      box-shadow: 0px 1px 3px 1px rgba(0, 0, 0, 0.15);\n",
              "      filter: drop-shadow(0px 1px 2px rgba(0, 0, 0, 0.3));\n",
              "      fill: #FFFFFF;\n",
              "    }\n",
              "  </style>\n",
              "\n",
              "      <script>\n",
              "        const buttonEl =\n",
              "          document.querySelector('#df-de67abf8-f87a-4509-8358-5c8c9c8cb146 button.colab-df-convert');\n",
              "        buttonEl.style.display =\n",
              "          google.colab.kernel.accessAllowed ? 'block' : 'none';\n",
              "\n",
              "        async function convertToInteractive(key) {\n",
              "          const element = document.querySelector('#df-de67abf8-f87a-4509-8358-5c8c9c8cb146');\n",
              "          const dataTable =\n",
              "            await google.colab.kernel.invokeFunction('convertToInteractive',\n",
              "                                                     [key], {});\n",
              "          if (!dataTable) return;\n",
              "\n",
              "          const docLinkHtml = 'Like what you see? Visit the ' +\n",
              "            '<a target=\"_blank\" href=https://colab.research.google.com/notebooks/data_table.ipynb>data table notebook</a>'\n",
              "            + ' to learn more about interactive tables.';\n",
              "          element.innerHTML = '';\n",
              "          dataTable['output_type'] = 'display_data';\n",
              "          await google.colab.output.renderOutput(dataTable, element);\n",
              "          const docLink = document.createElement('div');\n",
              "          docLink.innerHTML = docLinkHtml;\n",
              "          element.appendChild(docLink);\n",
              "        }\n",
              "      </script>\n",
              "    </div>\n",
              "  </div>\n",
              "  "
            ]
          },
          "metadata": {},
          "execution_count": 117
        }
      ]
    },
    {
      "cell_type": "code",
      "source": [
        "for i in df.columns:\n",
        "    print(f\" {i}  :  {len(df[i].unique())}\")"
      ],
      "metadata": {
        "colab": {
          "base_uri": "https://localhost:8080/"
        },
        "id": "h8omIwOnk2NA",
        "outputId": "06219146-12e7-424d-d8a0-d48ab7f9b99e"
      },
      "execution_count": 118,
      "outputs": [
        {
          "output_type": "stream",
          "name": "stdout",
          "text": [
            " pH  :  44215\n",
            " Salinity  :  42333\n",
            " Dissolved Oxygen  :  46976\n",
            " Temperature  :  94\n",
            " Turbidity  :  31779\n",
            " Dissolved Organic Matter  :  48949\n",
            " Suspended Matter  :  49200\n",
            " Chlorophyll  :  36303\n"
          ]
        }
      ]
    },
    {
      "cell_type": "code",
      "source": [
        "df = pd.read_csv('cleaned_water_quality_data1.csv')\n",
        "\n",
        "df.isnull().sum()"
      ],
      "metadata": {
        "colab": {
          "base_uri": "https://localhost:8080/"
        },
        "id": "cF4aI5bUeAyo",
        "outputId": "6e229ea4-acfa-4a2c-bf3b-21092ade32a6"
      },
      "execution_count": 119,
      "outputs": [
        {
          "output_type": "execute_result",
          "data": {
            "text/plain": [
              "pH                          0\n",
              "Salinity                    0\n",
              "Dissolved Oxygen            0\n",
              "Temperature                 0\n",
              "Turbidity                   0\n",
              "Dissolved Organic Matter    0\n",
              "Suspended Matter            0\n",
              "Chlorophyll                 0\n",
              "dtype: int64"
            ]
          },
          "metadata": {},
          "execution_count": 119
        }
      ]
    },
    {
      "cell_type": "code",
      "source": [
        "# Calculate density\n",
        "df['Density'] = (999.842594 + (0.06793952 * df['Temperature']) - (0.00909529 * df['Temperature'] ** 2) + (1.001685e-4 * df['Temperature'] ** 3) - (1.120083e-6 * df['Temperature'] ** 4) + (6.536332e-9 * df['Temperature'] ** 5)) + ((0.824493 - (0.0040899 * df['Temperature']) + (7.6438e-05 * df['Temperature'] ** 2) - (8.2467e-7 * df['Temperature'] ** 3) + (5.3875e-9 * df['Temperature'] ** 4)) * df['Salinity']) + (-0.00572466 + (1.0227e-4 * df['Temperature']) - (1.6546e-6 * df['Temperature'] ** 2)) * df['Salinity'] ** 1.5 + (4.8314e-4 - (6.7746e-6 * df['Temperature']) + (8.7339e-8 * df['Temperature'] ** 2)) * df['Salinity'] ** 2\n",
        "\n",
        "# Save the dataset as a CSV file\n",
        "df.to_csv('new_water_quality_data_with_density.csv', index=False)"
      ],
      "metadata": {
        "id": "tBaPnluneEW8"
      },
      "execution_count": 120,
      "outputs": []
    },
    {
      "cell_type": "code",
      "source": [
        "import matplotlib.pyplot as plt"
      ],
      "metadata": {
        "id": "37lal6mueIse"
      },
      "execution_count": 121,
      "outputs": []
    },
    {
      "cell_type": "code",
      "source": [
        "for feature in df.columns:\n",
        "    if 0 in df[feature].unique():\n",
        "        pass\n",
        "    else:\n",
        "        df.boxplot(column=feature)\n",
        "        plt.ylabel(feature)\n",
        "        plt.title(feature)\n",
        "        plt.show() "
      ],
      "metadata": {
        "colab": {
          "base_uri": "https://localhost:8080/",
          "height": 1000
        },
        "id": "2wNPsDo5eMlP",
        "outputId": "1b6adb65-2a57-4097-c6f5-bc20501e5a81"
      },
      "execution_count": 122,
      "outputs": [
        {
          "output_type": "display_data",
          "data": {
            "text/plain": [
              "<Figure size 432x288 with 1 Axes>"
            ],
            "image/png": "[encoded data removed]"
          },
          "metadata": {
            "needs_background": "light"
          }
        },
        {
          "output_type": "display_data",
          "data": {
            "text/plain": [
              "<Figure size 432x288 with 1 Axes>"
            ],
            "image/png": "[encoded data removed]"
          },
          "metadata": {
            "needs_background": "light"
          }
        },
        {
          "output_type": "display_data",
          "data": {
            "text/plain": [
              "<Figure size 432x288 with 1 Axes>"
            ],
            "image/png": "[encoded data removed]"
          },
          "metadata": {
            "needs_background": "light"
          }
        },
        {
          "output_type": "display_data",
          "data": {
            "text/plain": [
              "<Figure size 432x288 with 1 Axes>"
            ],
            "image/png": "[encoded data removed]"
          },
          "metadata": {
            "needs_background": "light"
          }
        },
        {
          "output_type": "display_data",
          "data": {
            "text/plain": [
              "<Figure size 432x288 with 1 Axes>"
            ],
            "image/png": "[encoded data removed]"
          },
          "metadata": {
            "needs_background": "light"
          }
        },
        {
          "output_type": "display_data",
          "data": {
            "text/plain": [
              "<Figure size 432x288 with 1 Axes>"
            ],
            "image/png": "[encoded data removed]"
          },
          "metadata": {
            "needs_background": "light"
          }
        },
        {
          "output_type": "display_data",
          "data": {
            "text/plain": [
              "<Figure size 432x288 with 1 Axes>"
            ],
            "image/png": "[encoded data removed]"
          },
          "metadata": {
            "needs_background": "light"
          }
        }
      ]
    },
    {
      "cell_type": "code",
      "source": [
        "# removing outliers\n",
        "Q1 = df.quantile(0.25)\n",
        "Q3 = df.quantile(0.75)\n",
        "IQR = Q3 - Q1\n",
        "print(IQR)"
      ],
      "metadata": {
        "colab": {
          "base_uri": "https://localhost:8080/"
        },
        "id": "GFYZVsyLeOJY",
        "outputId": "bde06e36-33d2-419c-9b33-64a4eeff8736"
      },
      "execution_count": 123,
      "outputs": [
        {
          "output_type": "stream",
          "name": "stdout",
          "text": [
            "pH                             0.162427\n",
            "Salinity                       0.252561\n",
            "Dissolved Oxygen               8.878500\n",
            "Temperature                    0.068360\n",
            "Turbidity                      0.251784\n",
            "Dissolved Organic Matter      89.677734\n",
            "Suspended Matter            1723.491669\n",
            "Chlorophyll                    0.290788\n",
            "Density                        0.206501\n",
            "dtype: float64\n"
          ]
        }
      ]
    },
    {
      "cell_type": "code",
      "source": [
        "df = df[~((df < (Q1 - 1.5 * IQR)) |(df > (Q3 + 1.5 * IQR))).any(axis=1)]\n",
        "df.shape"
      ],
      "metadata": {
        "colab": {
          "base_uri": "https://localhost:8080/"
        },
        "id": "FEtaEn9meRQy",
        "outputId": "a97bd807-aaa6-46bd-d668-603877d8ee47"
      },
      "execution_count": 124,
      "outputs": [
        {
          "output_type": "execute_result",
          "data": {
            "text/plain": [
              "(47936, 9)"
            ]
          },
          "metadata": {},
          "execution_count": 124
        }
      ]
    },
    {
      "cell_type": "code",
      "source": [
        "import seaborn as sns"
      ],
      "metadata": {
        "id": "T-vS2qH6eWjs"
      },
      "execution_count": 125,
      "outputs": []
    },
    {
      "cell_type": "code",
      "source": [
        "plt.figure(figsize=(25,25))\n",
        "ax = sns.heatmap(df.corr(), cmap = \"plasma\", annot=True, linewidth=2)"
      ],
      "metadata": {
        "colab": {
          "base_uri": "https://localhost:8080/",
          "height": 1000
        },
        "id": "3DXyir_ceciW",
        "outputId": "ed23d6b2-156a-4a33-dc52-057b405a36d8"
      },
      "execution_count": 126,
      "outputs": [
        {
          "output_type": "display_data",
          "data": {
            "text/plain": [
              "<Figure size 1800x1800 with 2 Axes>"
            ],
            "image/png": "[encoded data removed]"
          },
          "metadata": {
            "needs_background": "light"
          }
        }
      ]
    },
    {
      "cell_type": "code",
      "source": [
        "df.to_csv('clean_water_quality_datafinal.csv', index=False)"
      ],
      "metadata": {
        "id": "nzE5du3BeePx"
      },
      "execution_count": 127,
      "outputs": []
    },
    {
      "cell_type": "code",
      "source": [
        "def label_water_quality(row):\n",
        "    if 6.5 <= row['pH'] <= 8.5 and row['Salinity'] > 1 and -0.2 <= row['Turbidity'] <= 0 and 15 <= row['Temperature'] <= 35 and -0.1 <= row['Chlorophyll'] <= 0.1 and 300 <= row['Suspended Matter'] <= 600 and row['Dissolved Organic Matter'] < 500 and row['Dissolved Oxygen'] > 6.5:\n",
        "        return 'Good'\n",
        "    elif (4 <= row['pH'] <= 6.5 or 8.5 <= row['pH'] <= 11) and 0 <= row['Salinity'] <= 1 and 0 <= row['Turbidity'] <= 0.2 and (row['Temperature'] > 35 or row['Temperature'] < 15) and 0.1 <= row['Chlorophyll'] <= 0.5 and 600 <= row['Suspended Matter'] <= 900 and 500 <= row['Dissolved Organic Matter'] <= 2000 and 4 <= row['Dissolved Oxygen'] <= 6.5:\n",
        "        return 'Needs Treatment'\n",
        "    elif (1 <= row['pH'] <= 4 or 11 <= row['pH'] <= 14) or row['Salinity'] < 0 or row['Turbidity'] > 0.2 or row['Temperature'] > 40 or row['Temperature'] < 5 or row['Chlorophyll'] > 0.5 or 900 <= row['Suspended Matter'] <= 1200 or row['Dissolved Organic Matter'] > 2000 or row['Dissolved Oxygen'] < 4:\n",
        "        return 'Poor'\n",
        "    else:\n",
        "        return 'Unknown'\n",
        "    \n",
        "# Apply the function to create a new column \"Water Quality\"\n",
        "df['Water Quality'] = df.apply(lambda row: label_water_quality(row), axis=1)\n",
        "\n",
        "# Save the labeled dataset as a CSV file\n",
        "df.to_csv('labeled_water_quality_data.csv', index=False)"
      ],
      "metadata": {
        "id": "Mx1aWJE1eici"
      },
      "execution_count": 128,
      "outputs": []
    },
    {
      "cell_type": "code",
      "source": [
        "df[\"Water Quality\"].value_counts()"
      ],
      "metadata": {
        "colab": {
          "base_uri": "https://localhost:8080/"
        },
        "id": "n0qYC9UsenB7",
        "outputId": "3ee3f5c7-6ff2-4533-f518-5ede85acdb86"
      },
      "execution_count": 129,
      "outputs": [
        {
          "output_type": "execute_result",
          "data": {
            "text/plain": [
              "Unknown    39351\n",
              "Poor        5139\n",
              "Good        3446\n",
              "Name: Water Quality, dtype: int64"
            ]
          },
          "metadata": {},
          "execution_count": 129
        }
      ]
    },
    {
      "cell_type": "code",
      "source": [
        "### splitting data into x and y\n",
        "X = df.iloc[: , : -1]\n",
        "y = df.iloc[ : , -1]"
      ],
      "metadata": {
        "id": "tm4inzRZeq5A"
      },
      "execution_count": 130,
      "outputs": []
    },
    {
      "cell_type": "code",
      "source": [
        "# split dataset into train and test\n",
        "from sklearn.model_selection import train_test_split\n",
        "X_train, X_test, y_train, y_test = train_test_split(X, y, test_size = 0.3, random_state= 5)"
      ],
      "metadata": {
        "id": "QenYnHwzjFhy"
      },
      "execution_count": 131,
      "outputs": []
    },
    {
      "cell_type": "code",
      "source": [
        "from sklearn.preprocessing import StandardScaler\n",
        "sc = StandardScaler()\n",
        "X_train_final = sc.fit_transform(X_train)\n",
        "X_test_final = sc.transform(X_test)"
      ],
      "metadata": {
        "id": "vSeB9rKXjJGS"
      },
      "execution_count": 132,
      "outputs": []
    },
    {
      "cell_type": "code",
      "source": [
        "from sklearn.metrics import confusion_matrix, classification_report, accuracy_score"
      ],
      "metadata": {
        "id": "9knmbscDjLV1"
      },
      "execution_count": 133,
      "outputs": []
    },
    {
      "cell_type": "code",
      "source": [
        "# Random Forest Classifier\n",
        "from sklearn.ensemble import RandomForestClassifier\n",
        "rf_classifier = RandomForestClassifier(n_estimators = 30, criterion = 'entropy', class_weight = \"balanced_subsample\",random_state = 51)\n",
        "rf_classifier.fit(X_train_final, y_train)\n",
        "y_pred = rf_classifier.predict(X_test_final)\n",
        "accuracy_score(y_test, y_pred)"
      ],
      "metadata": {
        "colab": {
          "base_uri": "https://localhost:8080/"
        },
        "id": "UCZyMmLajOQ-",
        "outputId": "4aebbc36-cbd0-48cc-c451-71ba455c5674"
      },
      "execution_count": 134,
      "outputs": [
        {
          "output_type": "execute_result",
          "data": {
            "text/plain": [
              "0.9991655656769348"
            ]
          },
          "metadata": {},
          "execution_count": 134
        }
      ]
    },
    {
      "cell_type": "code",
      "source": [
        "print(classification_report(y_test, y_pred))"
      ],
      "metadata": {
        "colab": {
          "base_uri": "https://localhost:8080/"
        },
        "id": "F0hP9yrhjQzk",
        "outputId": "2f22a336-8a77-43a4-bc99-db0bae03d6e8"
      },
      "execution_count": 135,
      "outputs": [
        {
          "output_type": "stream",
          "name": "stdout",
          "text": [
            "              precision    recall  f1-score   support\n",
            "\n",
            "        Good       1.00      1.00      1.00      1005\n",
            "        Poor       1.00      1.00      1.00      1581\n",
            "     Unknown       1.00      1.00      1.00     11795\n",
            "\n",
            "    accuracy                           1.00     14381\n",
            "   macro avg       1.00      1.00      1.00     14381\n",
            "weighted avg       1.00      1.00      1.00     14381\n",
            "\n"
          ]
        }
      ]
    },
    {
      "cell_type": "code",
      "source": [
        "from sklearn.svm import SVC\n",
        "svc_classifier = SVC(class_weight = \"balanced\" )\n",
        "svc_classifier.fit(X_train_final, y_train)\n",
        "y_pred_scv = svc_classifier.predict(X_test_final)\n",
        "accuracy_score(y_test, y_pred_scv)"
      ],
      "metadata": {
        "colab": {
          "base_uri": "https://localhost:8080/"
        },
        "id": "A50M3Q9vjXEG",
        "outputId": "81ce29f2-3740-4118-9c12-cc65c5d1e7aa"
      },
      "execution_count": 137,
      "outputs": [
        {
          "output_type": "execute_result",
          "data": {
            "text/plain": [
              "0.8103052638898547"
            ]
          },
          "metadata": {},
          "execution_count": 137
        }
      ]
    },
    {
      "cell_type": "code",
      "source": [
        "print(classification_report(y_test, y_pred_scv))"
      ],
      "metadata": {
        "colab": {
          "base_uri": "https://localhost:8080/"
        },
        "id": "QKGflEVzDeps",
        "outputId": "60306952-a8ea-4ebf-919e-22488948f871"
      },
      "execution_count": 138,
      "outputs": [
        {
          "output_type": "stream",
          "name": "stdout",
          "text": [
            "              precision    recall  f1-score   support\n",
            "\n",
            "        Good       0.44      0.99      0.61      1005\n",
            "        Poor       0.52      0.99      0.68      1581\n",
            "     Unknown       1.00      0.77      0.87     11795\n",
            "\n",
            "    accuracy                           0.81     14381\n",
            "   macro avg       0.65      0.92      0.72     14381\n",
            "weighted avg       0.91      0.81      0.83     14381\n",
            "\n"
          ]
        }
      ]
    },
    {
      "cell_type": "code",
      "source": [],
      "metadata": {
        "id": "mrFgNvMADnCX"
      },
      "execution_count": null,
      "outputs": []
    }
  ]
}